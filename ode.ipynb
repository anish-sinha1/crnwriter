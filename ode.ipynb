{
 "cells": [
  {
   "cell_type": "code",
   "execution_count": 1,
   "metadata": {},
   "outputs": [],
   "source": [
    "import sympy\n",
    "from scipy.integrate import odeint"
   ]
  },
  {
   "cell_type": "code",
   "execution_count": 2,
   "metadata": {},
   "outputs": [],
   "source": [
    "equation = \"y'=-ky\"\n",
    "\n",
    "class DiffEq:\n",
    "    def __init__(self, equation: str): \n",
    "        self.equation = equation\n",
    "\n",
    "    def create_eq(self):\n",
    "        parts = self.equation.split(\" \")\n",
    "        lhs = parts[0][:-1]\n",
    "        rhs = parts[1]\n",
    "        expr = sympy.parse_expr(rhs)\n",
    "        exec(\n",
    "            f\"\"\"\n",
    "             def d_var_dt({lhs}, t):\n",
    "                k = \n",
    "             \"\"\"\n",
    "            )\n",
    "\n",
    "        \n",
    "        pass\n",
    "\n",
    "    "
   ]
  },
  {
   "cell_type": "code",
   "execution_count": null,
   "metadata": {},
   "outputs": [],
   "source": []
  }
 ],
 "metadata": {
  "kernelspec": {
   "display_name": "Python 3.11.0 ('research')",
   "language": "python",
   "name": "python3"
  },
  "language_info": {
   "codemirror_mode": {
    "name": "ipython",
    "version": 3
   },
   "file_extension": ".py",
   "mimetype": "text/x-python",
   "name": "python",
   "nbconvert_exporter": "python",
   "pygments_lexer": "ipython3",
   "version": "3.11.0"
  },
  "orig_nbformat": 4,
  "vscode": {
   "interpreter": {
    "hash": "ca9e2c981678cb6b4f4779f086ac7b13df21096baca45bbb426fe242d8d71c81"
   }
  }
 },
 "nbformat": 4,
 "nbformat_minor": 2
}
