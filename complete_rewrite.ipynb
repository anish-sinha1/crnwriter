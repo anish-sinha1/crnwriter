{
 "cells": [
  {
   "cell_type": "code",
   "execution_count": 41,
   "metadata": {},
   "outputs": [],
   "source": [
    "import sympy\n",
    "\n",
    "# System is a vector of differential equations\n",
    "\n",
    "system = [\n",
    "    \"f=w\",\n",
    "    \"g=-pqv\",\n",
    "    \"w=-w+u+v\",\n",
    "    \"u=-u+rv\",\n",
    "    \"v=-v\",\n",
    "    \"r=-r^2\",\n",
    "    \"p=pv\",\n",
    "    \"q=v-q\"\n",
    "]\n",
    "\n",
    "# Init is a vector representing the system's initial condition\n",
    "\n",
    "init = [0, 0, 0, 0, 0, 1, 1, 1]"
   ]
  },
  {
   "cell_type": "code",
   "execution_count": 42,
   "metadata": {},
   "outputs": [],
   "source": [
    "# Utilities for handling the initial conditions\n",
    "\n",
    "def split_eq(equation: str) -> list[str]:\n",
    "    return equation.split(\"=\")\n",
    "\n",
    "\n",
    "def extract_dv(eq: str) -> str:\n",
    "    lhs = split_eq(equation=eq)[0]\n",
    "    if len(lhs) == 1: \n",
    "        return lhs\n",
    "    if lhs.endswith(\"_prime\"):\n",
    "        parts = lhs.split(\"_prime\")\n",
    "        dv = \"\"\n",
    "        for part in parts[:-1]:\n",
    "            dv += part\n",
    "        return dv\n",
    "    if lhs.endswith(\"'\"):\n",
    "        return lhs.split(\"'\")[0]\n",
    "\n",
    "def rewrite_eq_with_init(eq: str, init: float) -> str: \n",
    "    parts = split_eq(equation=eq)\n",
    "    lhs = parts[0]\n",
    "    rhs = parts[1]\n",
    "    dv = extract_dv(eq=eq)\n",
    "    replace_with = dv\n",
    "    if init > 0:\n",
    "        replace_with += f\"-({init})\"\n",
    "    else:\n",
    "        replace_with += f\"(+{init})\"\n",
    "    replace_with = f\"({replace_with})\"\n",
    "    rhs = rhs.replace(dv, replace_with)\n",
    "    result = lhs + \"=\" + rhs\n",
    "    return result "
   ]
  },
  {
   "cell_type": "code",
   "execution_count": 44,
   "metadata": {},
   "outputs": [],
   "source": [
    "class Crn:\n",
    "    def __init__(self, system: list[str], init: list[float]):\n",
    "        self.system = system\n",
    "        self.init = init\n",
    "\n",
    "    def handle_initial_values(self): \n",
    "        for i, v in enumerate(init):\n",
    "            if v == 0:\n",
    "                continue\n",
    "            eq = self.system[i]\n",
    "            print(eq)\n",
    "            self.system[i] = rewrite_eq_with_init(eq=eq, init=v)\n",
    "        print(self.system)"
   ]
  },
  {
   "cell_type": "code",
   "execution_count": null,
   "metadata": {},
   "outputs": [],
   "source": [
    "crn = Crn(system=system, init=init)\n",
    "crn.handle_initial_values()"
   ]
  }
 ],
 "metadata": {
  "kernelspec": {
   "display_name": "Python 3.11.0 ('research')",
   "language": "python",
   "name": "python3"
  },
  "language_info": {
   "codemirror_mode": {
    "name": "ipython",
    "version": 3
   },
   "file_extension": ".py",
   "mimetype": "text/x-python",
   "name": "python",
   "nbconvert_exporter": "python",
   "pygments_lexer": "ipython3",
   "version": "3.11.0"
  },
  "orig_nbformat": 4,
  "vscode": {
   "interpreter": {
    "hash": "ca9e2c981678cb6b4f4779f086ac7b13df21096baca45bbb426fe242d8d71c81"
   }
  }
 },
 "nbformat": 4,
 "nbformat_minor": 2
}
