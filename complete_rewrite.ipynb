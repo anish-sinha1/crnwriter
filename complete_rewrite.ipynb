{
 "cells": [
  {
   "cell_type": "code",
   "execution_count": 222,
   "metadata": {},
   "outputs": [],
   "source": [
    "import sympy\n",
    "\n",
    "# System is a vector of differential equations\n",
    "\n",
    "system = [\n",
    "    \"f'=w\",\n",
    "    \"g'=-p*q*v-22.1\",\n",
    "    \"w'=-w+u+v\",\n",
    "    \"u'=-u+rv\",\n",
    "    \"v'=-v\",\n",
    "    \"r'=-r**2\",\n",
    "    \"p'=p*v\",\n",
    "    \"q'=v-q\"\n",
    "]\n",
    "\n",
    "# Init is a vector representing the system's initial condition\n",
    "\n",
    "init = [0, 0, 0, 0, 0, 1, 1, 1]"
   ]
  },
  {
   "cell_type": "code",
   "execution_count": 223,
   "metadata": {},
   "outputs": [],
   "source": [
    "# Utilities for handling the initial conditions\n",
    "\n",
    "def split_eq(equation: str) -> list[str]:\n",
    "    return equation.split(\"=\")\n",
    "\n",
    "\n",
    "def extract_dv(eq: str) -> str:\n",
    "    lhs = split_eq(equation=eq)[0]\n",
    "    if len(lhs) == 1: \n",
    "        return lhs\n",
    "    if lhs.endswith(\"_prime\"):\n",
    "        parts = lhs.split(\"_prime\")\n",
    "        dv = \"\"\n",
    "        for part in parts[:-1]:\n",
    "            dv += part\n",
    "        return dv\n",
    "    if lhs.endswith(\"'\"):\n",
    "        return lhs.split(\"'\")[0]\n",
    "\n",
    "def rewrite_eq_with_init(eq: str, init: float) -> str: \n",
    "    parts = split_eq(equation=eq)\n",
    "    lhs = parts[0]\n",
    "    rhs = parts[1]\n",
    "    dv = extract_dv(eq=eq)\n",
    "    replace_with = dv\n",
    "    if init > 0:\n",
    "        replace_with += f\"+{init}\"\n",
    "    elif init < 0:\n",
    "        replace_with += f\"-{init}\"\n",
    "    replace_with = f\"({replace_with})\"\n",
    "    rhs = rhs.replace(dv, replace_with)\n",
    "    result = lhs + \"=\" + rhs\n",
    "    return result "
   ]
  },
  {
   "cell_type": "code",
   "execution_count": 224,
   "metadata": {},
   "outputs": [],
   "source": [
    "# Expression parsing utilities\n",
    "\n",
    "import sympy\n",
    "\n",
    "def parse_rhs(expr: str):\n",
    "    return sympy.parse_expr(expr)"
   ]
  },
  {
   "cell_type": "code",
   "execution_count": 235,
   "metadata": {},
   "outputs": [],
   "source": [
    "import sys\n",
    "\n",
    "class CrnEquation:\n",
    "    \"\"\"\n",
    "    Expects a single equation and its numeric initial condition\n",
    "    \"\"\"\n",
    "    def __init__(self, eq: str, init: float):\n",
    "        self.original = eq\n",
    "        if init == 0:\n",
    "            self.adjusted = eq\n",
    "        else:\n",
    "            self.adjusted = rewrite_eq_with_init(eq=eq, init=init)\n",
    "        self.dv = extract_dv(eq=eq)\n",
    "        self.parts = self.adjusted.split(\"=\")\n",
    "        self.crn_computable = self.crn_computable()\n",
    "\n",
    "    def crn_computable(self) -> bool:\n",
    "        rhs = self.parts[1]\n",
    "        rhs = sympy.parse_expr(rhs)\n",
    "        pos, neg = self.split_rhs(rhs)\n",
    "\n",
    "        # CONDITION ONE \n",
    "        # Determine whether a negative constant exists. If one does, the expression is not CRN computable\n",
    "        for el in neg:\n",
    "            match type(el):\n",
    "                case sympy.core.numbers.Integer:\n",
    "                    cast = int(el)\n",
    "                    if cast < 0:\n",
    "                        return False\n",
    "                case sympy.core.numbers.Float:\n",
    "                    cast = float(el)\n",
    "                    if cast < 0:\n",
    "                        return False\n",
    "         \n",
    "        # CONDITION TWO\n",
    "        # Determine whether ALL expressions with negative terms on the RHS contain the dependent variable. If not, the expression is\n",
    "        # not CRN computable \n",
    "\n",
    "        return True \n",
    "\n",
    "    def split_rhs(self, rhs):\n",
    "        ispos = lambda x: x.as_coeff_Mul()[0].is_positive\n",
    "        pos, neg = sympy.sift(sympy.Add.make_args(rhs), ispos, binary=True)\n",
    "        return pos, neg \n",
    "\n",
    "    def __str__(self):\n",
    "        return f\"\"\"\n",
    "CrnEquation [ \n",
    "    original: {self.original},\n",
    "    dv: {self.dv}\n",
    "    adjusted: {self.adjusted},\n",
    "    parts: {self.parts},\n",
    "    crn_computable: {self.crn_computable}\n",
    "]\"\"\"\n",
    "\n",
    "    def __repr__(self):\n",
    "        return str(self) \n",
    "\n",
    "class Crn:\n",
    "    \"\"\"\n",
    "    Expects a vector of differential equations and an equal-sized vector of initial conditions\n",
    "    \"\"\"\n",
    "    def __init__(self, system: list[str], init: list[float]):\n",
    "        self.original_system = system\n",
    "        self.system: list[CrnEquation] = []\n",
    "        self.init = init\n",
    "        self.rewrite_queue: list[str] = []\n",
    "        if len(self.original_system) != len(self.init):\n",
    "            sys.exit(1)\n",
    "        self.handle_initial_values()\n",
    "        \n",
    "\n",
    "    def handle_initial_values(self): \n",
    "        for eq, init in zip(self.original_system, self.init):\n",
    "            crn_equation = CrnEquation(eq=eq, init=init)\n",
    "            self.system.append(crn_equation)"
   ]
  },
  {
   "cell_type": "code",
   "execution_count": 236,
   "metadata": {},
   "outputs": [
    {
     "name": "stdout",
     "output_type": "stream",
     "text": [
      "-22.1\n"
     ]
    }
   ],
   "source": [
    "crn = Crn(system=system, init=init)"
   ]
  },
  {
   "cell_type": "code",
   "execution_count": null,
   "metadata": {},
   "outputs": [],
   "source": []
  },
  {
   "cell_type": "code",
   "execution_count": null,
   "metadata": {},
   "outputs": [],
   "source": []
  },
  {
   "cell_type": "code",
   "execution_count": null,
   "metadata": {},
   "outputs": [],
   "source": []
  }
 ],
 "metadata": {
  "kernelspec": {
   "display_name": "Python 3.11.0 ('research')",
   "language": "python",
   "name": "python3"
  },
  "language_info": {
   "codemirror_mode": {
    "name": "ipython",
    "version": 3
   },
   "file_extension": ".py",
   "mimetype": "text/x-python",
   "name": "python",
   "nbconvert_exporter": "python",
   "pygments_lexer": "ipython3",
   "version": "3.11.0"
  },
  "orig_nbformat": 4,
  "vscode": {
   "interpreter": {
    "hash": "ca9e2c981678cb6b4f4779f086ac7b13df21096baca45bbb426fe242d8d71c81"
   }
  }
 },
 "nbformat": 4,
 "nbformat_minor": 2
}
