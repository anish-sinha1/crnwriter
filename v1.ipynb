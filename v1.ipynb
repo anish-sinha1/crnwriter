{
 "cells": [
  {
   "cell_type": "code",
   "execution_count": 1,
   "metadata": {},
   "outputs": [
    {
     "data": {
      "image/png": "[encoded data removed]",
      "text/latex": [
       "$\\displaystyle \\operatorname{Poly}{\\left( xy - 2 xz + y^{2} - 2 yz, x, y, z, domain=\\mathbb{Z} \\right)}$"
      ],
      "text/plain": [
       "Poly(x*y - 2*x*z + y**2 - 2*y*z, x, y, z, domain='ZZ')"
      ]
     },
     "execution_count": 1,
     "metadata": {},
     "output_type": "execute_result"
    }
   ],
   "source": [
    "from sympy import *\n",
    "x, y, z = symbols('x,y,z')\n",
    "init_printing(use_unicode=False, wrap_line=False)\n",
    "e = (x + y)*(y - 2*z)\n",
    "e.as_poly()\n",
    "Poly(x*y - 2*x*z + y**2 - 2*y*z, x, y, z, domain='ZZ')"
   ]
  },
  {
   "cell_type": "code",
   "execution_count": 4,
   "metadata": {},
   "outputs": [
    {
     "data": {
      "image/png": "[encoded data removed]",
      "text/latex": [
       "$\\displaystyle \\left( \\left[ \\left( 1, \\  \\left( \\left( 1.0, \\  0.0\\right), \\  \\left( 0, \\  0\\right), \\  \\left( \\right)\\right)\\right), \\  \\left( x^{2}, \\  \\left( \\left( 1.0, \\  0.0\\right), \\  \\left( 2, \\  0\\right), \\  \\left( \\right)\\right)\\right), \\  \\left( - x, \\  \\left( \\left( -1.0, \\  0.0\\right), \\  \\left( 1, \\  0\\right), \\  \\left( \\right)\\right)\\right), \\  \\left( x^{2} y, \\  \\left( \\left( 1.0, \\  0.0\\right), \\  \\left( 2, \\  1\\right), \\  \\left( \\right)\\right)\\right)\\right], \\  \\left[ x, \\  y\\right]\\right)$"
      ],
      "text/plain": [
       "                                   2                                                                2                                       \n",
       "([(1, ((1.0, 0.0), (0, 0), ())), (x , ((1.0, 0.0), (2, 0), ())), (-x, ((-1.0, 0.0), (1, 0), ())), (x *y, ((1.0, 0.0), (2, 1), ()))], [x, y])"
      ]
     },
     "execution_count": 4,
     "metadata": {},
     "output_type": "execute_result"
    }
   ],
   "source": [
    "x, y = symbols(\"x, y\")\n",
    "x_prime = 1+x**2+x**2*y-x\n",
    "x_prime.as_poly()"
   ]
  },
  {
   "cell_type": "code",
   "execution_count": 14,
   "metadata": {},
   "outputs": [
    {
     "data": {
      "image/png": "[encoded data removed]",
      "text/latex": [
       "$\\displaystyle \\left[ - y, \\  - \\frac{x y^{2}}{3}\\right]$"
      ],
      "text/plain": [
       "         2  \n",
       "     -x*y   \n",
       "[-y, ------]\n",
       "       3    "
      ]
     },
     "execution_count": 14,
     "metadata": {},
     "output_type": "execute_result"
    }
   ],
   "source": [
    "from sympy import sift, Add\n",
    "ispos = lambda x: x.as_coeff_Mul()[0].is_positive\n",
    "p = -x*y**2/3 + 4*x*y + 3*x - y\n",
    "pos, neg = sift(Add.make_args(p), ispos, binary=True)\n",
    "neg"
   ]
  },
  {
   "cell_type": "code",
   "execution_count": 17,
   "metadata": {},
   "outputs": [
    {
     "name": "stdout",
     "output_type": "stream",
     "text": [
      "-y-x*y**2/3\n"
     ]
    }
   ],
   "source": [
    "expr = \"\"\n",
    "for n in neg:\n",
    "    expr += str(n)\n",
    "print(expr)\n"
   ]
  },
  {
   "cell_type": "code",
   "execution_count": 28,
   "metadata": {},
   "outputs": [
    {
     "data": {
      "text/plain": [
       "'x'"
      ]
     },
     "execution_count": 28,
     "metadata": {},
     "output_type": "execute_result"
    }
   ],
   "source": [
    "eq = 1+x**2+x**2*y-x\n",
    "pos, neg = sift(Add.make_args(eq), ispos, binary=True)\n",
    "\n",
    "pos_expr = \"\"\n",
    "neg_expr = \"\"\n",
    "\n",
    "for term in pos:\n",
    "    pos_expr += str(term) + \"+\" \n",
    "pos_expr = pos_expr[:-1]\n",
    "\n",
    "for term in neg:\n",
    "    neg_expr += str(term)\n",
    "neg_expr=neg_expr[1:]\n",
    "neg_expr\n"
   ]
  },
  {
   "cell_type": "code",
   "execution_count": 29,
   "metadata": {},
   "outputs": [
    {
     "data": {
      "text/plain": [
       "'asd'"
      ]
     },
     "execution_count": 29,
     "metadata": {},
     "output_type": "execute_result"
    }
   ],
   "source": [
    "t = \"asdf\"\n",
    "t = t[:-1]\n",
    "t"
   ]
  },
  {
   "cell_type": "code",
   "execution_count": 39,
   "metadata": {},
   "outputs": [
    {
     "data": {
      "image/png": "[encoded data removed]",
      "text/latex": [
       "$\\displaystyle p^{+} + p^{-}$"
      ],
      "text/plain": [
       "p^{+} + p^{-}"
      ]
     },
     "execution_count": 39,
     "metadata": {},
     "output_type": "execute_result"
    }
   ],
   "source": [
    "x_prime_1 = Symbol(\"x_1^{'}\")\n",
    "sympify(x_prime_1)\n",
    "\n",
    "p_plus = Symbol(\"p^{+}\")\n",
    "p_minus = Symbol(\"p^{-}\")\n",
    "\n",
    "sympify(p_plus)\n",
    "sympify(p_minus)\n",
    "\n",
    "expr = (p_plus + p_minus)\n",
    "expr\n"
   ]
  },
  {
   "cell_type": "code",
   "execution_count": 42,
   "metadata": {},
   "outputs": [
    {
     "data": {
      "image/png": "[encoded data removed]",
      "text/latex": [
       "$\\displaystyle x_{1} x_{2} \\left(p^{+} + p^{-}\\right)$"
      ],
      "text/plain": [
       "x_1*x_2*(p^{+} + p^{-})"
      ]
     },
     "execution_count": 42,
     "metadata": {},
     "output_type": "execute_result"
    }
   ],
   "source": [
    "# Symbols\n",
    "\n",
    "x_1 = Symbol(\"x_1\")\n",
    "x_1_prime = Symbol(\"x_1^{'}\")\n",
    "\n",
    "x_2 = Symbol(\"x_2\")\n",
    "x_2_prime = Symbol(\"x_2^{'}\")\n",
    "\n",
    "p_plus = Symbol(\"p^{+}\")\n",
    "p_minus = Symbol(\"p^{-}\")\n",
    "\n",
    "expr = (p_plus+p_minus)*x_1*x_2\n",
    "expr\n"
   ]
  },
  {
   "cell_type": "code",
   "execution_count": 56,
   "metadata": {},
   "outputs": [
    {
     "ename": "TypeError",
     "evalue": "unsupported operand type(s) for ^: 'Add' and 'Add'",
     "output_type": "error",
     "traceback": [
      "\u001b[0;31m---------------------------------------------------------------------------\u001b[0m",
      "\u001b[0;31mTypeError\u001b[0m                                 Traceback (most recent call last)",
      "Cell \u001b[0;32mIn[56], line 2\u001b[0m\n\u001b[1;32m      1\u001b[0m x, y \u001b[38;5;241m=\u001b[39m symbols(\u001b[38;5;124m\"\u001b[39m\u001b[38;5;124mx, y\u001b[39m\u001b[38;5;124m\"\u001b[39m)\n\u001b[0;32m----> 2\u001b[0m first \u001b[38;5;241m=\u001b[39m \u001b[38;5;241m1\u001b[39m\u001b[38;5;241m+\u001b[39mx\u001b[38;5;241m^\u001b[39m\u001b[38;5;241m2\u001b[39m\u001b[38;5;241m+\u001b[39mx\u001b[38;5;241m^\u001b[39m\u001b[38;5;241m2\u001b[39m\u001b[38;5;241m*\u001b[39my\u001b[38;5;241m-\u001b[39mx\n\u001b[1;32m      3\u001b[0m sympify(first)\n",
      "\u001b[0;31mTypeError\u001b[0m: unsupported operand type(s) for ^: 'Add' and 'Add'"
     ]
    }
   ],
   "source": [
    "x, y = symbols(\"x, y\")\n",
    "first = 1+x^2+x^2*y-x\n",
    "sympify(first)"
   ]
  },
  {
   "cell_type": "code",
   "execution_count": null,
   "metadata": {},
   "outputs": [],
   "source": []
  }
 ],
 "metadata": {
  "kernelspec": {
   "display_name": "Python 3.11.0 ('research')",
   "language": "python",
   "name": "python3"
  },
  "language_info": {
   "codemirror_mode": {
    "name": "ipython",
    "version": 3
   },
   "file_extension": ".py",
   "mimetype": "text/x-python",
   "name": "python",
   "nbconvert_exporter": "python",
   "pygments_lexer": "ipython3",
   "version": "3.11.0"
  },
  "orig_nbformat": 4,
  "vscode": {
   "interpreter": {
    "hash": "ca9e2c981678cb6b4f4779f086ac7b13df21096baca45bbb426fe242d8d71c81"
   }
  }
 },
 "nbformat": 4,
 "nbformat_minor": 2
}
