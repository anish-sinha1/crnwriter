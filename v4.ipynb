{
 "cells": [
  {
   "cell_type": "code",
   "execution_count": 135,
   "metadata": {},
   "outputs": [],
   "source": [
    "# Import required libraries\n",
    "\n",
    "import sympy\n",
    "from matplotlib import pyplot as plt\n",
    "from IPython.display import display, Latex\n",
    "\n",
    "%matplotlib inline"
   ]
  },
  {
   "cell_type": "code",
   "execution_count": 146,
   "metadata": {},
   "outputs": [
    {
     "name": "stdout",
     "output_type": "stream",
     "text": [
      "IPython console for SymPy 1.11.1 (Python 3.11.0-64-bit) (ground types: python)\n",
      "\n",
      "These commands were executed:\n",
      ">>> from sympy import *\n",
      ">>> x, y, z, t = symbols('x y z t')\n",
      ">>> k, m, n = symbols('k m n', integer=True)\n",
      ">>> f, g, h = symbols('f g h', cls=Function)\n",
      ">>> init_printing()\n",
      "\n",
      "Documentation can be found at https://docs.sympy.org/1.11.1/\n",
      "\n"
     ]
    }
   ],
   "source": [
    "# Initialization\n",
    "\n",
    "sympy.init_session()\n",
    "sympy.init_printing(use_unicode=False, wrap_line=False, use_latex=\"mathjax\")"
   ]
  },
  {
   "cell_type": "code",
   "execution_count": 163,
   "metadata": {},
   "outputs": [],
   "source": [
    "# CRN Class\n",
    "\n",
    "from sympy import Symbol\n",
    "\n",
    "class Crn:\n",
    "    def __init__(self, equation: str, initial_condition=None):\n",
    "        self.equation = equation\n",
    "        self.parts = self.split()\n",
    "        self.lhs = self.parts[0]\n",
    "        self.dv = self.parts[0]\n",
    "        self.rhs = self.parts[1]\n",
    "        self.expr = sympy.parse_expr(self.parts[1])\n",
    "        self.expr_parts = self.split_rhs()\n",
    "        self.pos_terms = self.expr_parts[0]\n",
    "        self.neg_terms = self.expr_parts[1]\n",
    "        self.p_poly = self.gen_p_poly()\n",
    "        self.pos = self.rewrite_pos()\n",
    "        self.neg = self.rewrite_neg()\n",
    "        self.system = self.write_system()\n",
    "\n",
    "    def split(self):  \n",
    "        parts = self.equation.split(\"=\")\n",
    "        return parts\n",
    "\n",
    "    def gen_p_poly(self):\n",
    "        sym = self.dv[:-1]\n",
    "        sym_1 = Symbol(f\"{sym}_1\")\n",
    "        sym_2 = Symbol(f\"{sym}_2\")\n",
    "        p_plus = Symbol(\"p^{+}\")\n",
    "        p_minus = Symbol(\"p^{-}\")\n",
    "        poly = (p_plus+p_minus)*sym_1*sym_2\n",
    "        return poly\n",
    "\n",
    "    def split_rhs(self):\n",
    "        ispos = lambda x: x.as_coeff_Mul()[0].is_positive\n",
    "        pos, neg = sympy.sift(sympy.Add.make_args(self.expr), ispos, binary=True)\n",
    "        return pos, neg\n",
    "    \n",
    "    def rewrite_pos(self):\n",
    "        pos_expr = \"\"\n",
    "        for term in self.pos_terms:\n",
    "            pos_expr += str(term) + \"+\" \n",
    "        pos_expr = pos_expr[:-1]\n",
    "        return sympy.parse_expr(pos_expr)\n",
    "\n",
    "    def rewrite_neg(self):\n",
    "        neg_expr = \"\"\n",
    "        for term in self.neg_terms:\n",
    "            neg_expr += str(term)\n",
    "        neg_expr = neg_expr[1:]\n",
    "        return neg_expr\n",
    "\n",
    "    def write_system(self):\n",
    "        first_dv = Symbol(f\"{self.dv}_1\")\n",
    "        second_dv = Symbol(f\"{self.dv}_2\")\n",
    "        return f\"{first_dv}={self.pos}-{self.p_poly}\", f\"{second_dv}={self.neg}-{self.p_poly}\"\n",
    "\n",
    "    def as_latex(self):\n",
    "        return sympy.latex(str(self))\n",
    "        \n",
    "\n",
    "    def __str__(self):\n",
    "        return f\"\"\"\n",
    "        -------------------------------------------------------\n",
    "        CrnWriter\n",
    "        -------------------------------------------------------\n",
    "        [Equation]\n",
    "        Equation: {self.equation}\n",
    "        Dependent variable (LHS): {self.dv}\n",
    "        RHS: {self.rhs}\n",
    "        -------------------------------------------------------\n",
    "        [RHS Parse]\n",
    "        Expression: {self.expr}\n",
    "        Positive Terms: {self.pos_terms} \n",
    "        Negative Terms: {self.neg_terms}\n",
    "        Positive Expression: {self.pos}\n",
    "        Negative Expression {self.neg}\n",
    "        -------------------------------------------------------\n",
    "        [P-Term]\n",
    "        P Polynomial: {self.p_poly}\n",
    "        -------------------------------------------------------\n",
    "        [Rewritten]\n",
    "        System: \n",
    "            {self.system[0]}\n",
    "            {self.system[1]}\n",
    "        \"\"\"\n"
   ]
  },
  {
   "cell_type": "code",
   "execution_count": 164,
   "metadata": {},
   "outputs": [
    {
     "name": "stdout",
     "output_type": "stream",
     "text": [
      "\n",
      "        -------------------------------------------------------\n",
      "        CrnWriter\n",
      "        -------------------------------------------------------\n",
      "        [Equation]\n",
      "        Equation: y'=(w+1)*(x+1)**2-(w+1)*y**2\n",
      "        Dependent variable (LHS): y'\n",
      "        RHS: (w+1)*(x+1)**2-(w+1)*y**2\n",
      "        -------------------------------------------------------\n",
      "        [RHS Parse]\n",
      "        Expression: -y**2*(w + 1) + (w + 1)*(x + 1)**2\n",
      "        Positive Terms: [(w + 1)*(x + 1)**2] \n",
      "        Negative Terms: [-y**2*(w + 1)]\n",
      "        Positive Expression: (w + 1)*(x + 1)**2\n",
      "        Negative Expression y**2*(w + 1)\n",
      "        -------------------------------------------------------\n",
      "        [P-Term]\n",
      "        P Polynomial: y_1*y_2*(p^{+} + p^{-})\n",
      "        -------------------------------------------------------\n",
      "        [Rewritten]\n",
      "        System: \n",
      "            y'_1=(w + 1)*(x + 1)**2-y_1*y_2*(p^{+} + p^{-})\n",
      "            y'_2=y**2*(w + 1)-y_1*y_2*(p^{+} + p^{-})\n",
      "        \n"
     ]
    }
   ],
   "source": [
    "crn = Crn(\"y'=(w+1)*(x+1)**2-(w+1)*y**2\")\n",
    "print(crn)"
   ]
  },
  {
   "cell_type": "code",
   "execution_count": 165,
   "metadata": {},
   "outputs": [
    {
     "name": "stdout",
     "output_type": "stream",
     "text": [
      "\\mathtt{\\text{\n",
      "        -------------------------------------------------------\n",
      "        CrnWriter\n",
      "        -------------------------------------------------------\n",
      "        [Equation]\n",
      "        Equation: y'=(w+1)*(x+1)**2-(w+1)*y**2\n",
      "        Dependent variable (LHS): y'\n",
      "        RHS: (w+1)*(x+1)**2-(w+1)*y**2\n",
      "        -------------------------------------------------------\n",
      "        [RHS Parse]\n",
      "        Expression: -y**2*(w + 1) + (w + 1)*(x + 1)**2\n",
      "        Positive Terms: [(w + 1)*(x + 1)**2] \n",
      "        Negative Terms: [-y**2*(w + 1)]\n",
      "        Positive Expression: (w + 1)*(x + 1)**2\n",
      "        Negative Expression y**2*(w + 1)\n",
      "        -------------------------------------------------------\n",
      "        [P-Term]\n",
      "        P Polynomial: y\\_1*y\\_2*(p\\textasciicircum\\{+\\} + p\\textasciicircum\\{-\\})\n",
      "        -------------------------------------------------------\n",
      "        [Rewritten]\n",
      "        System: \n",
      "            y'\\_1=(w + 1)*(x + 1)**2-y\\_1*y\\_2*(p\\textasciicircum\\{+\\} + p\\textasciicircum\\{-\\})\n",
      "            y'\\_2=y**2*(w + 1)-y\\_1*y\\_2*(p\\textasciicircum\\{+\\} + p\\textasciicircum\\{-\\})\n",
      "        }}\n"
     ]
    }
   ],
   "source": [
    "print(crn.as_latex())"
   ]
  },
  {
   "cell_type": "code",
   "execution_count": 166,
   "metadata": {},
   "outputs": [
    {
     "data": {
      "text/latex": [
       "$\\displaystyle 3$"
      ],
      "text/plain": [
       "3"
      ]
     },
     "execution_count": 166,
     "metadata": {},
     "output_type": "execute_result"
    }
   ],
   "source": [
    "exec(\"\"\"def a(x): return x+1\"\"\")\n",
    "locals()[\"a\"](2)"
   ]
  },
  {
   "cell_type": "code",
   "execution_count": null,
   "metadata": {},
   "outputs": [],
   "source": []
  }
 ],
 "metadata": {
  "kernelspec": {
   "display_name": "Python 3.11.0 ('research')",
   "language": "python",
   "name": "python3"
  },
  "language_info": {
   "codemirror_mode": {
    "name": "ipython",
    "version": 3
   },
   "file_extension": ".py",
   "mimetype": "text/x-python",
   "name": "python",
   "nbconvert_exporter": "python",
   "pygments_lexer": "ipython3",
   "version": "3.11.0"
  },
  "orig_nbformat": 4,
  "vscode": {
   "interpreter": {
    "hash": "ca9e2c981678cb6b4f4779f086ac7b13df21096baca45bbb426fe242d8d71c81"
   }
  }
 },
 "nbformat": 4,
 "nbformat_minor": 2
}
