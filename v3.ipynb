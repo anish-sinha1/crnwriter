{
 "cells": [
  {
   "cell_type": "code",
   "execution_count": 2,
   "metadata": {},
   "outputs": [],
   "source": [
    "from sympy import sift, symbols, init_printing, parse_expr, Add, Symbol\n",
    "init_printing(use_unicode=False, wrap_line=False)"
   ]
  },
  {
   "cell_type": "code",
   "execution_count": 21,
   "metadata": {},
   "outputs": [],
   "source": [
    "class CrnWriter:\n",
    "    def __init__(self, expr, dependent_variable):\n",
    "        self.dv = dependent_variable\n",
    "        self.dv1 = Symbol(f\"{dependent_variable}_1\")\n",
    "        self.dv2 = Symbol(f\"{dependent_variable}_2\")\n",
    "        self.dv1p = Symbol(f\"{dependent_variable}_1^{{'\\''}}\")\n",
    "        self.dv2p = Symbol(f\"{dependent_variable}_2^{{'\\''}}\")\n",
    "        self.p_plus = Symbol(\"p^{+}\")\n",
    "        self.p_minus = Symbol(\"p^{-}\")\n",
    "        self.p_polynomial = self.gen_p_polynomial()\n",
    "        self.expr = parse_expr(expr)\n",
    "        self.raw_parts = self.split_expr()\n",
    "        self.pos_terms = self.raw_parts[0]\n",
    "        self.neg_terms = self.raw_parts[1]\n",
    "        self.pos = self.rewrite_pos()\n",
    "        self.neg = self.rewrite_neg()\n",
    "        \n",
    "    def gen_p_polynomial(self):\n",
    "        dv = self.dv[:1]\n",
    "        dv1 = Symbol(f\"{dv}_1\")\n",
    "        dv2 = Symbol(f\"{dv}_2\")\n",
    "        p_polynomial = (self.p_plus+self.p_minus)*dv1*dv2\n",
    "        return p_polynomial\n",
    "\n",
    "    def split_expr(self):\n",
    "        ispos = lambda x: x.as_coeff_Mul()[0].is_positive\n",
    "        pos, neg = sift(Add.make_args(self.expr), ispos, binary=True)\n",
    "        return pos, neg\n",
    "    \n",
    "    def rewrite_pos(self):\n",
    "        pos_expr = \"\"\n",
    "        for term in self.pos_terms:\n",
    "            pos_expr += str(term) + \"+\" \n",
    "        pos_expr = pos_expr[:-1]\n",
    "        return parse_expr(pos_expr)\n",
    "\n",
    "    def rewrite_neg(self):\n",
    "        neg_expr = \"\"\n",
    "        for term in self.neg_terms:\n",
    "            neg_expr += str(term)\n",
    "        neg_expr = neg_expr[1:]\n",
    "        return neg_expr\n",
    "\n",
    "    def __str__(self):\n",
    "        return f\"\"\"CrnWriter\n",
    "                raw_parts: {self.raw_parts}\n",
    "                positive_terms: {self.pos_terms}\n",
    "                negative_terms: {self.neg_terms}\n",
    "                pos_expr: {self.pos}-{self.p_polynomial}\n",
    "                neg_expr: {self.neg}-{self.p_polynomial}\n",
    "                \"\"\"\n",
    "\n",
    "    def dict(self):\n",
    "        return vars(self)\n",
    "    \n"
   ]
  },
  {
   "cell_type": "code",
   "execution_count": 23,
   "metadata": {},
   "outputs": [
    {
     "name": "stdout",
     "output_type": "stream",
     "text": [
      "CrnWriter\n",
      "                raw_parts: ([1], [-w])\n",
      "                positive_terms: [1]\n",
      "                negative_terms: [-w]\n",
      "                pos_expr: 1-w_1*w_2*(p^{+} + p^{-})\n",
      "                neg_expr: w-w_1*w_2*(p^{+} + p^{-})\n",
      "                \n"
     ]
    }
   ],
   "source": [
    "w_prime = \"-(w-1)\"\n",
    "writer = CrnWriter(w_prime, \"w_prime\")\n",
    "print(writer)"
   ]
  },
  {
   "cell_type": "code",
   "execution_count": null,
   "metadata": {},
   "outputs": [],
   "source": []
  }
 ],
 "metadata": {
  "kernelspec": {
   "display_name": "Python 3.11.0 ('research')",
   "language": "python",
   "name": "python3"
  },
  "language_info": {
   "codemirror_mode": {
    "name": "ipython",
    "version": 3
   },
   "file_extension": ".py",
   "mimetype": "text/x-python",
   "name": "python",
   "nbconvert_exporter": "python",
   "pygments_lexer": "ipython3",
   "version": "3.11.0"
  },
  "orig_nbformat": 4,
  "vscode": {
   "interpreter": {
    "hash": "ca9e2c981678cb6b4f4779f086ac7b13df21096baca45bbb426fe242d8d71c81"
   }
  }
 },
 "nbformat": 4,
 "nbformat_minor": 2
}
