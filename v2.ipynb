{
 "cells": [
  {
   "cell_type": "code",
   "execution_count": 13,
   "metadata": {},
   "outputs": [],
   "source": [
    "from sympy import symbols, sift, Add, init_printing, parse_expr, Symbol\n",
    "init_printing(use_unicode=False, wrap_line=False)"
   ]
  },
  {
   "cell_type": "code",
   "execution_count": 14,
   "metadata": {},
   "outputs": [
    {
     "data": {
      "image/png": "[encoded data removed]",
      "text/latex": [
       "$\\displaystyle x^{2} y + x^{2} - x + 1$"
      ],
      "text/plain": [
       " 2      2        \n",
       "x *y + x  - x + 1"
      ]
     },
     "execution_count": 14,
     "metadata": {},
     "output_type": "execute_result"
    }
   ],
   "source": [
    "x, y = symbols(\"x,y\")\n",
    "x_prime = 1+x**2+x**2*y-x\n",
    "x_prime"
   ]
  },
  {
   "cell_type": "code",
   "execution_count": 17,
   "metadata": {},
   "outputs": [],
   "source": [
    "def split_expr(expr):\n",
    "    ispos = lambda x: x.as_coeff_Mul()[0].is_positive\n",
    "    pos, neg = sift(Add.make_args(expr), ispos, binary=True)\n",
    "    return pos, neg"
   ]
  },
  {
   "cell_type": "code",
   "execution_count": 23,
   "metadata": {},
   "outputs": [
    {
     "data": {
      "text/plain": [
       "'x'"
      ]
     },
     "execution_count": 23,
     "metadata": {},
     "output_type": "execute_result"
    }
   ],
   "source": [
    "pos, neg = split_expr(x_prime)\n",
    "\n",
    "def rewrite_pos(pos_terms):\n",
    "    pos_expr = \"\"\n",
    "    for term in pos_terms:\n",
    "        pos_expr += str(term) + \"+\" \n",
    "    pos_expr = pos_expr[:-1]\n",
    "    return parse_expr(pos_expr)\n",
    "\n",
    "def rewrite_neg(neg_terms):\n",
    "    neg_expr = \"\"\n",
    "    for term in neg:\n",
    "        neg_expr += str(term)\n",
    "    neg_expr = neg_expr[1:]\n",
    "    return neg_expr\n",
    "\n",
    "rewrite_neg(neg)"
   ]
  },
  {
   "cell_type": "code",
   "execution_count": 77,
   "metadata": {},
   "outputs": [],
   "source": [
    "class CrnWriter:\n",
    "    x_1 = Symbol(\"x_1\")\n",
    "    x_1_prime = Symbol(\"x_1^{'}\")\n",
    "    x_2 = Symbol(\"x_2\")\n",
    "    x_2_prime = Symbol(\"x_2^{'}\")\n",
    "    p_plus = Symbol(\"p^{+}\")\n",
    "    p_minus = Symbol(\"p^{-}\")\n",
    "    p_polynomial = (p_plus+p_minus)*x_1*x_2\n",
    "\n",
    "    def __init__(self, expr):\n",
    "        # if the user incorrectly input an equation rather than an expression\n",
    "        if \"=\" in str(expr): \n",
    "            expr = expr.split(\"=\")[1]\n",
    "        self.expr = expr\n",
    "\n",
    "        # split into positive and negative terms\n",
    "        self.raw_parts = self.split_expr()\n",
    "        self.pos_terms = self.raw_parts[0]\n",
    "        self.neg_terms = self.raw_parts[1]\n",
    "        self.pos = self.rewrite_pos()\n",
    "        self.neg = self.rewrite_neg()\n",
    "        \n",
    "    def split_expr(self):\n",
    "        ispos = lambda x: x.as_coeff_Mul()[0].is_positive\n",
    "        pos, neg = sift(Add.make_args(self.expr), ispos, binary=True)\n",
    "        return pos, neg\n",
    "\n",
    "    def rewrite_pos(self):\n",
    "        pos_expr = \"\"\n",
    "        for term in self.pos_terms:\n",
    "            pos_expr += str(term) + \"+\" \n",
    "        pos_expr = pos_expr[:-1]\n",
    "        return parse_expr(pos_expr)\n",
    "\n",
    "    def rewrite_neg(self):\n",
    "        neg_expr = \"\"\n",
    "        for term in self.neg_terms:\n",
    "            neg_expr += str(term)\n",
    "        neg_expr = neg_expr[1:]\n",
    "        return neg_expr\n",
    "\n",
    "    def __str__(self):\n",
    "        return f\"\"\"CrnWriter\n",
    "                raw_parts: {self.raw_parts}\n",
    "                positive_terms: {self.pos_terms}\n",
    "                negative_terms: {self.neg_terms}\n",
    "                pos_expr: {self.pos}-{self.p_polynomial}\n",
    "                neg_expr: {self.neg}-{self.p_polynomial}\n",
    "                \"\"\"\n",
    "\n"
   ]
  },
  {
   "cell_type": "code",
   "execution_count": 78,
   "metadata": {},
   "outputs": [
    {
     "name": "stdout",
     "output_type": "stream",
     "text": [
      "CrnWriter\n",
      "                raw_parts: ([1, x**2, x**2*y], [-x])\n",
      "                positive_terms: [1, x**2, x**2*y]\n",
      "                negative_terms: [-x]\n",
      "                pos_expr: x**2*y + x**2 + 1-x_1*x_2*(p^{+} + p^{-})\n",
      "                neg_expr: x-x_1*x_2*(p^{+} + p^{-})\n",
      "                \n"
     ]
    }
   ],
   "source": [
    "writer = CrnWriter(x_prime)\n",
    "print(writer)"
   ]
  },
  {
   "cell_type": "code",
   "execution_count": 83,
   "metadata": {},
   "outputs": [
    {
     "name": "stdout",
     "output_type": "stream",
     "text": [
      "CrnWriter\n",
      "                raw_parts: ([1], [-w])\n",
      "                positive_terms: [1]\n",
      "                negative_terms: [-w]\n",
      "                pos_expr: 1-x_1*x_2*(p^{+} + p^{-})\n",
      "                neg_expr: w-x_1*x_2*(p^{+} + p^{-})\n",
      "                \n"
     ]
    }
   ],
   "source": [
    "w = symbols(\"w\")\n",
    "w_prime = -(w-1)\n",
    "writer2 = CrnWriter(w_prime)\n",
    "print(writer2)"
   ]
  },
  {
   "cell_type": "code",
   "execution_count": 84,
   "metadata": {},
   "outputs": [
    {
     "name": "stdout",
     "output_type": "stream",
     "text": [
      "CrnWriter\n",
      "                raw_parts: ([y*(-2*w - 2)*(x + 1)], [])\n",
      "                positive_terms: [y*(-2*w - 2)*(x + 1)]\n",
      "                negative_terms: []\n",
      "                pos_expr: y*(-2*w - 2)*(x + 1)-x_1*x_2*(p^{+} + p^{-})\n",
      "                neg_expr: -x_1*x_2*(p^{+} + p^{-})\n",
      "                \n"
     ]
    }
   ],
   "source": [
    "x_prime = -2*(w+1)*(x+1)*y\n",
    "writer3=CrnWriter(x_prime)\n",
    "print(writer3)"
   ]
  },
  {
   "cell_type": "code",
   "execution_count": 86,
   "metadata": {},
   "outputs": [
    {
     "name": "stdout",
     "output_type": "stream",
     "text": [
      "CrnWriter\n",
      "                raw_parts: ([(w + 1)*(x + 1)**2], [-y**2*(w + 1)])\n",
      "                positive_terms: [(w + 1)*(x + 1)**2]\n",
      "                negative_terms: [-y**2*(w + 1)]\n",
      "                pos_expr: (w + 1)*(x + 1)**2-x_1*x_2*(p^{+} + p^{-})\n",
      "                neg_expr: y**2*(w + 1)-x_1*x_2*(p^{+} + p^{-})\n",
      "                \n"
     ]
    }
   ],
   "source": [
    "y_prime = (w+1)*(x+1)**2-(w+1)*y**2\n",
    "writer4 = CrnWriter(y_prime)\n",
    "print(writer4)"
   ]
  },
  {
   "cell_type": "code",
   "execution_count": 88,
   "metadata": {},
   "outputs": [
    {
     "name": "stdout",
     "output_type": "stream",
     "text": [
      "CrnWriter\n",
      "                raw_parts: ([(w + 1)*(x + 1)], [])\n",
      "                positive_terms: [(w + 1)*(x + 1)]\n",
      "                negative_terms: []\n",
      "                pos_expr: (w + 1)*(x + 1)-x_1*x_2*(p^{+} + p^{-})\n",
      "                neg_expr: -x_1*x_2*(p^{+} + p^{-})\n",
      "                \n"
     ]
    }
   ],
   "source": [
    "z_prime = (w+1)*(x+1)\n",
    "writer5 = CrnWriter(z_prime)\n",
    "print(writer5)"
   ]
  },
  {
   "cell_type": "code",
   "execution_count": null,
   "metadata": {},
   "outputs": [],
   "source": []
  }
 ],
 "metadata": {
  "kernelspec": {
   "display_name": "Python 3.11.0 ('research')",
   "language": "python",
   "name": "python3"
  },
  "language_info": {
   "codemirror_mode": {
    "name": "ipython",
    "version": 3
   },
   "file_extension": ".py",
   "mimetype": "text/x-python",
   "name": "python",
   "nbconvert_exporter": "python",
   "pygments_lexer": "ipython3",
   "version": "3.11.0"
  },
  "orig_nbformat": 4,
  "vscode": {
   "interpreter": {
    "hash": "ca9e2c981678cb6b4f4779f086ac7b13df21096baca45bbb426fe242d8d71c81"
   }
  }
 },
 "nbformat": 4,
 "nbformat_minor": 2
}
